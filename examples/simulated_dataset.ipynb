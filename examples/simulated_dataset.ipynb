{
 "cells": [
  {
   "cell_type": "code",
   "execution_count": 9,
   "metadata": {},
   "outputs": [
    {
     "name": "stdout",
     "output_type": "stream",
     "text": [
      "\n",
      "Fast Gradient Algorithm Coefficients:\n",
      " [-0.14274807 -0.17335035 -0.1147769  -0.10192978 -0.13242802 -0.15882511\n",
      " -0.09807183 -0.14414955 -0.12638705 -0.0997095  -0.20047638 -0.1474371\n",
      " -0.17097865 -0.07797474 -0.06824291 -0.18755379 -0.18393916 -0.18393293\n",
      " -0.07210646 -0.11044892 -0.08471212 -0.11821681 -0.15741851 -0.12275346\n",
      " -0.06796452 -0.0957313  -0.13293313 -0.11846007 -0.11449315 -0.09598109\n",
      " -0.12723513 -0.15807295 -0.09640093 -0.1241127  -0.11641163 -0.16153677\n",
      " -0.08688691 -0.10681594 -0.11069182 -0.12878644 -0.1443601  -0.13071213\n",
      " -0.18995598 -0.13631174 -0.16809871 -0.11727973 -0.14311504 -0.1587285\n",
      " -0.16637538 -0.18348254]\n",
      "\n",
      "Sci-kit Learn's LogisticRegression() Coefficients:\n",
      " [[-0.14274808 -0.17335034 -0.11477689 -0.10192978 -0.13242802 -0.15882511\n",
      "  -0.09807183 -0.14414954 -0.12638705 -0.09970951 -0.20047637 -0.14743709\n",
      "  -0.17097865 -0.07797474 -0.06824292 -0.18755379 -0.18393915 -0.18393293\n",
      "  -0.07210647 -0.11044892 -0.08471212 -0.11821681 -0.1574185  -0.12275346\n",
      "  -0.06796452 -0.0957313  -0.13293313 -0.11846006 -0.11449314 -0.09598108\n",
      "  -0.12723512 -0.15807295 -0.09640093 -0.1241127  -0.11641162 -0.16153676\n",
      "  -0.08688691 -0.10681594 -0.11069181 -0.12878644 -0.1443601  -0.13071212\n",
      "  -0.18995597 -0.13631173 -0.16809871 -0.11727973 -0.14311503 -0.1587285\n",
      "  -0.16637538 -0.18348254]]\n",
      "\n",
      "Misclassification Error: 13.77%\n"
     ]
    }
   ],
   "source": [
    "\"\"\"\n",
    "This code shows an example implementing the fast gradient algorithm to compute\n",
    "the beta coefficients and misclassification error. It compares the beta\n",
    "coefficients to that of sklearn.\n",
    "\"\"\"\n",
    "\n",
    "\n",
    "import src.logistic_reg as lreg\n",
    "import numpy as np\n",
    "\n",
    "from sklearn.linear_model import LogisticRegression\n",
    "from sklearn.model_selection import train_test_split\n",
    "from sklearn.preprocessing import StandardScaler\n",
    "\n",
    "\n",
    "# create simulated dataset\n",
    "np.random.seed(0)\n",
    "\n",
    "data1 = np.random.random(size=(250, 50)) - 0.05\n",
    "data2 = np.random.random(size=(300, 50)) + 0.05\n",
    "data = np.concatenate((data1, data2), axis=0)\n",
    "\n",
    "label1 = np.ones(shape=(250, ))\n",
    "label2 = np.ones(shape=(300, ))*-1\n",
    "label = np.concatenate((label1, label2), axis=0)\n",
    "\n",
    "# define the split between train and test data\n",
    "x_train, x_test, y_train, y_test = train_test_split(data,\n",
    "                                                    label,\n",
    "                                                    random_state=0)\n",
    "\n",
    "# standardize the data\n",
    "x_scaler = StandardScaler().fit(x_train)\n",
    "x_train = x_scaler.transform(x_train)\n",
    "x_test = x_scaler.transform(x_test)\n",
    "n = x_train.shape[0]\n",
    "d = x_train.shape[1]\n",
    "\n",
    "# initialize the beta and theta values\n",
    "beta_init = np.zeros(d)\n",
    "theta_init = np.zeros(d)\n",
    "\n",
    "# run the fast gradient algorithm to find the beta coefficients\n",
    "fastgrad_betas = lreg.fastgradalgo(beta_init=beta_init,\n",
    "                                   theta_init=theta_init,\n",
    "                                   lamb=0.1,\n",
    "                                   x=x_train,\n",
    "                                   y=y_train,\n",
    "                                   max_iter=1000)[-1]\n",
    "\n",
    "# run sci-kit learn's LogisticRegression() to find the beta coefficients\n",
    "logit = LogisticRegression(C=1/(2*n*0.1),\n",
    "                           fit_intercept=False,\n",
    "                           tol=1e-8).fit(x_train, y_train)\n",
    "\n",
    "# print the coefficients found using the fast gradient algorithm and sklearn\n",
    "print(\"\\nFast Gradient Algorithm Coefficients:\\n\", fastgrad_betas)\n",
    "print(\"\\nSci-kit Learn's LogisticRegression() Coefficients:\\n\", logit.coef_)\n",
    "\n",
    "# apply the coefficients found using the fast gradient algorithm to test set\n",
    "y_predict = (np.dot(x_test, fastgrad_betas) > 0)*2 - 1\n",
    "\n",
    "# print the misclassification error\n",
    "print(\"\\nMisclassification Error: %.2f%%\" % (np.mean(y_predict != y_test)*100))\n"
   ]
  },
  {
   "cell_type": "code",
   "execution_count": null,
   "metadata": {
    "collapsed": true
   },
   "outputs": [],
   "source": []
  }
 ],
 "metadata": {
  "kernelspec": {
   "display_name": "Python 3",
   "language": "python",
   "name": "python3"
  },
  "language_info": {
   "codemirror_mode": {
    "name": "ipython",
    "version": 3
   },
   "file_extension": ".py",
   "mimetype": "text/x-python",
   "name": "python",
   "nbconvert_exporter": "python",
   "pygments_lexer": "ipython3",
   "version": "3.5.2"
  }
 },
 "nbformat": 4,
 "nbformat_minor": 1
}
