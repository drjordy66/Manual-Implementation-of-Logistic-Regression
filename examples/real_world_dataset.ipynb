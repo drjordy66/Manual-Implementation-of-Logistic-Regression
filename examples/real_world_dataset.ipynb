{
 "cells": [
  {
   "cell_type": "code",
   "execution_count": 1,
   "metadata": {},
   "outputs": [
    {
     "name": "stdout",
     "output_type": "stream",
     "text": [
      "\n",
      "Fast Gradient Algorithm Coefficients:\n",
      " [ 0.02117385 -0.03877237  0.09773528  0.05503457  0.1525669   0.1353421\n",
      "  0.28353643  0.15114095  0.1128095   0.0618343   0.10500655 -0.04220304\n",
      "  0.03473199  0.02859179  0.10918831  0.27363849  0.1737305   0.12517056\n",
      "  0.12909993  0.12242491  0.22405007  0.10833402  0.24549892  0.16656819\n",
      " -0.14753838 -0.10493502 -0.11498727 -0.06087623 -0.04741843 -0.06626842\n",
      " -0.02882372 -0.01515087 -0.07621345 -0.01594128 -0.04244589 -0.01357764\n",
      " -0.0770028  -0.03415858 -0.07954387  0.01734151 -0.04773062 -0.0908281\n",
      " -0.06004538 -0.06969734 -0.11272028 -0.11263942 -0.03213642 -0.0620666\n",
      " -0.05727729 -0.04253486 -0.02823661  0.1548533   0.2620447   0.05893829\n",
      "  0.06871691  0.12510257  0.14819384]\n",
      "\n",
      "Sci-kit Learn's LogisticRegression() Coefficients:\n",
      " [[ 0.02117345 -0.03877587  0.09773771  0.05503819  0.15256401  0.13534366\n",
      "   0.28352681  0.15114461  0.11280873  0.06183421  0.10502022 -0.04219962\n",
      "   0.03472887  0.02859174  0.10917878  0.27363777  0.17373109  0.12517347\n",
      "   0.1290986   0.12243222  0.2240522   0.10833277  0.24549208  0.16655949\n",
      "  -0.14754037 -0.10493049 -0.1149898  -0.06087818 -0.04741795 -0.06626914\n",
      "  -0.02882511 -0.0151532  -0.07621369 -0.0159425  -0.04245255 -0.01357162\n",
      "  -0.07700499 -0.03415877 -0.07954035  0.01733619 -0.04772964 -0.09082759\n",
      "  -0.06004341 -0.06969745 -0.11271606 -0.11263913 -0.0321344  -0.06206727\n",
      "  -0.05727232 -0.0425365  -0.02823825  0.15484338  0.26205747  0.05893876\n",
      "   0.06871901  0.12509356  0.14818851]]\n",
      "\n",
      "Misclassification Error: 9.44%\n"
     ]
    },
    {
     "data": {
      "image/png": "[encoded data removed]",
      "text/plain": [
       "<matplotlib.figure.Figure at 0x27e76410438>"
      ]
     },
     "metadata": {},
     "output_type": "display_data"
    }
   ],
   "source": [
    "\"\"\"\n",
    "This code shows an example implementing the fast gradient algorithm to compute\n",
    "the beta coefficients and misclassification error. It compares the beta\n",
    "coefficients to that of sklearn.\n",
    "\"\"\"\n",
    "\n",
    "\n",
    "import src.logistic_reg as lreg\n",
    "import matplotlib.pyplot as plt\n",
    "import numpy as np\n",
    "import pandas as pd\n",
    "\n",
    "from sklearn.linear_model import LogisticRegression\n",
    "from sklearn.preprocessing import StandardScaler\n",
    "\n",
    "%matplotlib inline\n",
    "\n",
    "\n",
    "# load dataset and drop NAs\n",
    "spam = pd.read_table('https://statweb.stanford.edu/~tibs/ElemStatLearn/'\n",
    "                     'datasets/spam.data', sep=' ', header=None)\n",
    "spam = spam.dropna()\n",
    "test_indicator = pd.read_table('https://statweb.stanford.edu/~tibs/'\n",
    "                               'ElemStatLearn/datasets/spam.traintest',\n",
    "                               sep=' ', header=None)\n",
    "\n",
    "# declare data and labels\n",
    "x_data = np.asarray(spam.drop(57, axis=1))\n",
    "y_data = np.asarray(spam[57])*2 - 1\n",
    "test_indicator = np.ravel(np.asarray(test_indicator))\n",
    "\n",
    "# define the split between train and test data\n",
    "x_train = x_data[test_indicator == 0, :]\n",
    "x_test = x_data[test_indicator == 1, :]\n",
    "y_train = y_data[test_indicator == 0]\n",
    "y_test = y_data[test_indicator == 1]\n",
    "\n",
    "# standardize the data\n",
    "x_scaler = StandardScaler().fit(x_train)\n",
    "x_train = x_scaler.transform(x_train)\n",
    "x_test = x_scaler.transform(x_test)\n",
    "n = x_train.shape[0]\n",
    "d = x_train.shape[1]\n",
    "\n",
    "# initialize the beta and theta values\n",
    "beta_init = np.zeros(d)\n",
    "theta_init = np.zeros(d)\n",
    "\n",
    "# run the fast gradient algorithm to find the beta coefficients\n",
    "fastgrad_betas = lreg.fastgradalgo(beta_init=beta_init,\n",
    "                                   theta_init=theta_init,\n",
    "                                   lamb=0.1,\n",
    "                                   x=x_train,\n",
    "                                   y=y_train,\n",
    "                                   max_iter=1000)\n",
    "\n",
    "# run sci-kit learn's LogisticRegression() to find the beta coefficients\n",
    "logit = LogisticRegression(C=1/(2*n*0.1),\n",
    "                           fit_intercept=False,\n",
    "                           tol=1e-8).fit(x_train, y_train)\n",
    "\n",
    "# print the coefficients found using the fast gradient algorithm and sklearn\n",
    "print(\"\\nFast Gradient Algorithm Coefficients:\\n\", fastgrad_betas[-1])\n",
    "print(\"\\nSci-kit Learn's LogisticRegression() Coefficients:\\n\", logit.coef_)\n",
    "\n",
    "# apply the coefficients found using the fast gradient algorithm to test set\n",
    "y_predict = (np.dot(x_test, fastgrad_betas[-1]) > 0)*2 - 1\n",
    "\n",
    "# print the misclassification error\n",
    "print(\"\\nMisclassification Error: %.2f%%\" % (np.mean(y_predict != y_test)*100))\n",
    "\n",
    "# initialize list for all objective values\n",
    "objective_values = []\n",
    "\n",
    "# iterate over coefficients and calculate objective values\n",
    "for i in fastgrad_betas:\n",
    "    objective_values.append(lreg.computeobj(beta=i, lamb=0.1, x=x_train, y=y_train))\n",
    "\n",
    "# plot objective values against iterations\n",
    "plt.plot(range(len(objective_values)), objective_values);\n",
    "plt.xlabel('Iterations');\n",
    "plt.ylabel('Objective Values');\n"
   ]
  },
  {
   "cell_type": "code",
   "execution_count": null,
   "metadata": {
    "collapsed": true
   },
   "outputs": [],
   "source": []
  }
 ],
 "metadata": {
  "kernelspec": {
   "display_name": "Python 3",
   "language": "python",
   "name": "python3"
  },
  "language_info": {
   "codemirror_mode": {
    "name": "ipython",
    "version": 3
   },
   "file_extension": ".py",
   "mimetype": "text/x-python",
   "name": "python",
   "nbconvert_exporter": "python",
   "pygments_lexer": "ipython3",
   "version": "3.5.2"
  }
 },
 "nbformat": 4,
 "nbformat_minor": 1
}
