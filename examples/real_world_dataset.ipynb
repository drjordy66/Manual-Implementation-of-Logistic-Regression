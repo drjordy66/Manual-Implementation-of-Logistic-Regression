{
 "cells": [
  {
   "cell_type": "code",
   "execution_count": 1,
   "metadata": {},
   "outputs": [
    {
     "ename": "NameError",
     "evalue": "name 'LogisticRegression' is not defined",
     "output_type": "error",
     "traceback": [
      "\u001b[0;31m---------------------------------------------------------------------------\u001b[0m",
      "\u001b[0;31mNameError\u001b[0m                                 Traceback (most recent call last)",
      "\u001b[0;32m<ipython-input-1-c7bc641feab0>\u001b[0m in \u001b[0;36m<module>\u001b[0;34m()\u001b[0m\n\u001b[1;32m     45\u001b[0m \u001b[1;33m\u001b[0m\u001b[0m\n\u001b[1;32m     46\u001b[0m \u001b[1;31m# run sci-kit learn's LogisticRegression() to find the beta coefficients\u001b[0m\u001b[1;33m\u001b[0m\u001b[1;33m\u001b[0m\u001b[0m\n\u001b[0;32m---> 47\u001b[0;31m logit = LogisticRegression(C=1/(2*n*0.1),\n\u001b[0m\u001b[1;32m     48\u001b[0m                            \u001b[0mfit_intercept\u001b[0m\u001b[1;33m=\u001b[0m\u001b[1;32mFalse\u001b[0m\u001b[1;33m,\u001b[0m\u001b[1;33m\u001b[0m\u001b[0m\n\u001b[1;32m     49\u001b[0m                            tol=1e-8).fit(x_train, y_train)\n",
      "\u001b[0;31mNameError\u001b[0m: name 'LogisticRegression' is not defined"
     ]
    }
   ],
   "source": [
    "import src.logistic_reg as lreg\n",
    "import numpy as np\n",
    "import pandas as pd\n",
    "\n",
    "from sklearn.linear_model import LogisticRegression\n",
    "from sklearn.model_selection import train_test_split\n",
    "from sklearn.preprocessing import StandardScaler\n",
    "\n",
    "\n",
    "# load dataset and drop NAs\n",
    "spam = pd.read_table('https://statweb.stanford.edu/~tibs/ElemStatLearn/'\n",
    "                     'datasets/spam.data', sep=' ', header=None)\n",
    "spam = spam.dropna()\n",
    "test_indicator = pd.read_table('https://statweb.stanford.edu/~tibs/'\n",
    "                               'ElemStatLearn/datasets/spam.traintest',\n",
    "                               sep=' ', header=None)\n",
    "\n",
    "# declare data and labels\n",
    "x_data = np.asarray(spam.drop(57, axis=1))\n",
    "y_data = np.asarray(spam[57])*2 - 1\n",
    "test_indicator = np.ravel(np.asarray(test_indicator))\n",
    "\n",
    "# define the split between train and test data\n",
    "x_train = x_data[test_indicator == 0, :]\n",
    "x_test = x_data[test_indicator == 1, :]\n",
    "y_train = y_data[test_indicator == 0]\n",
    "y_test = y_data[test_indicator == 1]\n",
    "\n",
    "# standardize the data\n",
    "x_scaler = StandardScaler().fit(x_train)\n",
    "x_train = x_scaler.transform(x_train)\n",
    "x_test = x_scaler.transform(x_test)\n",
    "n = x_train.shape[0]\n",
    "d = x_train.shape[1]\n",
    "\n",
    "# initialize the beta and theta values\n",
    "beta_init = np.zeros(d)\n",
    "theta_init = np.zeros(d)\n",
    "\n",
    "# run the fast gradient algorithm to find the beta coefficients\n",
    "fastgrad_betas = lreg.fastgradalgo(beta_init=beta_init,\n",
    "                                   theta_init=theta_init,\n",
    "                                   lamb=0.1,\n",
    "                                   x=x_train,\n",
    "                                   y=y_train,\n",
    "                                   max_iter=1000)[-1]\n",
    "\n",
    "# run sci-kit learn's LogisticRegression() to find the beta coefficients\n",
    "logit = LogisticRegression(C=1/(2*n*0.1),\n",
    "                           fit_intercept=False,\n",
    "                           tol=1e-8).fit(x_train, y_train)\n",
    "\n",
    "# print the coefficients found using the fast gradient algorithm and sklearn\n",
    "print(fastgrad_betas)\n",
    "print(logit.coef_)\n"
   ]
  },
  {
   "cell_type": "code",
   "execution_count": null,
   "metadata": {
    "collapsed": true
   },
   "outputs": [],
   "source": []
  }
 ],
 "metadata": {
  "kernelspec": {
   "display_name": "Python 3",
   "language": "python",
   "name": "python3"
  },
  "language_info": {
   "codemirror_mode": {
    "name": "ipython",
    "version": 3
   },
   "file_extension": ".py",
   "mimetype": "text/x-python",
   "name": "python",
   "nbconvert_exporter": "python",
   "pygments_lexer": "ipython3",
   "version": "3.5.2"
  }
 },
 "nbformat": 4,
 "nbformat_minor": 1
}
